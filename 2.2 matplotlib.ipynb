{
 "cells": [
  {
   "cell_type": "code",
   "execution_count": 7,
   "id": "fa4c1d10",
   "metadata": {},
   "outputs": [],
   "source": [
    "import numpy as np\n",
    "import random\n",
    "import time\n",
    "import matplotlib.pyplot as plt\n",
    "import matplotlib.animation as animation"
   ]
  },
  {
   "cell_type": "code",
   "execution_count": 8,
   "id": "48ea8dc2",
   "metadata": {},
   "outputs": [],
   "source": [
    "def count_live_neighbors(matrix, x, y):\n",
    "    # Рахує кількість живих сусідів для даної клітинки (x, y)\n",
    "    live_neighbors = 0\n",
    "    for i in range(-1, 2):\n",
    "        for j in range(-1, 2):\n",
    "            if i == 0 and j == 0:\n",
    "                continue  # Пропускаємо саму клітинку\n",
    "            if 0 <= x + i < matrix.shape[0] and 0 <= y + j < matrix.shape[1] and matrix[x + i][y + j] == 1:\n",
    "                live_neighbors += 1\n",
    "    return live_neighbors"
   ]
  },
  {
   "cell_type": "code",
   "execution_count": 9,
   "id": "e4a1e510",
   "metadata": {},
   "outputs": [],
   "source": [
    "def update_matrix(matrix):\n",
    "    new_matrix = matrix.copy()\n",
    "    for x in range(matrix.shape[0]):\n",
    "        for y in range(matrix.shape[1]):\n",
    "            live_neighbors = count_live_neighbors(matrix, x, y)\n",
    "            if matrix[x][y] == 1:  # Жива клітинка\n",
    "                if live_neighbors < 2 or live_neighbors > 3:\n",
    "                    new_matrix[x][y] = 0  # Помирає\n",
    "            else:  # Мертва клітинка\n",
    "                if live_neighbors == 3:\n",
    "                    new_matrix[x][y] = 1  # Оживає\n",
    "    return new_matrix"
   ]
  },
  {
   "cell_type": "code",
   "execution_count": 10,
   "id": "84a2e6b8",
   "metadata": {},
   "outputs": [
    {
     "data": {
      "image/png": "[encoded data removed]",
      "text/plain": [
       "<Figure size 640x480 with 1 Axes>"
      ]
     },
     "metadata": {},
     "output_type": "display_data"
    }
   ],
   "source": [
    "def random_matrix(rows, cols):\n",
    "    # Генерує випадкову матрицю з розміром (rows, cols)\n",
    "    return np.random.randint(2, size=(rows, cols), dtype=int)\n",
    "\n",
    "# Задати розмір матриці\n",
    "rows = 10\n",
    "cols = 10\n",
    "\n",
    "# Створити початкову випадкову матрицю\n",
    "initial_matrix = random_matrix(rows, cols)\n",
    "\n",
    "fig, ax = plt.subplots()\n",
    "cax = ax.matshow(initial_matrix, cmap=plt.cm.gray)"
   ]
  },
  {
   "cell_type": "code",
   "execution_count": 11,
   "id": "18382325",
   "metadata": {},
   "outputs": [],
   "source": [
    "def update(frame):\n",
    "    global initial_matrix\n",
    "    initial_matrix = update_matrix(initial_matrix)\n",
    "    cax.set_array(initial_matrix)\n",
    "    return cax\n",
    "\n",
    "ani = animation.FuncAnimation(fig, update, frames=200, interval=1000)\n",
    "plt.show()"
   ]
  },
  {
   "cell_type": "code",
   "execution_count": null,
   "id": "dbe1bb8c",
   "metadata": {},
   "outputs": [],
   "source": []
  }
 ],
 "metadata": {
  "kernelspec": {
   "display_name": "linalg",
   "language": "python",
   "name": "linalg"
  },
  "language_info": {
   "codemirror_mode": {
    "name": "ipython",
    "version": 3
   },
   "file_extension": ".py",
   "mimetype": "text/x-python",
   "name": "python",
   "nbconvert_exporter": "python",
   "pygments_lexer": "ipython3",
   "version": "3.11.4"
  }
 },
 "nbformat": 4,
 "nbformat_minor": 5
}
