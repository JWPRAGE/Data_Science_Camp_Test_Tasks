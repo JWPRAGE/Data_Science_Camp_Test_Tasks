{
 "cells": [
  {
   "cell_type": "code",
   "execution_count": 1,
   "id": "4be516de",
   "metadata": {},
   "outputs": [],
   "source": [
    "import numpy as np"
   ]
  },
  {
   "cell_type": "code",
   "execution_count": null,
   "id": "798c1258",
   "metadata": {
    "scrolled": false
   },
   "outputs": [
    {
     "name": "stdout",
     "output_type": "stream",
     "text": [
      "Введіть матрицю A (3x3):\n"
     ]
    }
   ],
   "source": [
    "print(\"Введіть матрицю A (3x3):\")\n",
    "A = []\n",
    "for i in range(3):\n",
    "    row = [float(x) for x in input(f\"Введіть строку {i + 1} через пробіл: \").split()]\n",
    "    A.append(row)"
   ]
  },
  {
   "cell_type": "code",
   "execution_count": null,
   "id": "ae6b6da8",
   "metadata": {},
   "outputs": [],
   "source": [
    "print(\"Введіть вектор B (розмірністю 3):\")\n",
    "B = [float(x) for x in input(\"Введіть значения вектора через пробіл: \").split()]"
   ]
  },
  {
   "cell_type": "code",
   "execution_count": null,
   "id": "350ceda6",
   "metadata": {},
   "outputs": [],
   "source": [
    "X = np.linalg.solve(np.array(A), np.array(B))"
   ]
  },
  {
   "cell_type": "code",
   "execution_count": null,
   "id": "191de6a4",
   "metadata": {},
   "outputs": [],
   "source": [
    "print(f\"Рішення системи: X1 = {X[0]}, X2 = {X[1]}, X3 = {X[2]}\")"
   ]
  }
 ],
 "metadata": {
  "kernelspec": {
   "display_name": "linalg",
   "language": "python",
   "name": "linalg"
  },
  "language_info": {
   "codemirror_mode": {
    "name": "ipython",
    "version": 3
   },
   "file_extension": ".py",
   "mimetype": "text/x-python",
   "name": "python",
   "nbconvert_exporter": "python",
   "pygments_lexer": "ipython3",
   "version": "3.11.4"
  }
 },
 "nbformat": 4,
 "nbformat_minor": 5
}
