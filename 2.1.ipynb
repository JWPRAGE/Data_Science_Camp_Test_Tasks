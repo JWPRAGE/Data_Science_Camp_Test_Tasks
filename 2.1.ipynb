{
 "cells": [
  {
   "cell_type": "code",
   "execution_count": 2,
   "id": "8e55166d",
   "metadata": {},
   "outputs": [],
   "source": [
    "import numpy as np\n",
    "import random\n",
    "import time"
   ]
  },
  {
   "cell_type": "code",
   "execution_count": 3,
   "id": "335c500e",
   "metadata": {},
   "outputs": [],
   "source": [
    "def count_live_neighbors(matrix, x, y):\n",
    "    # Рахує кількість живих сусідів для даної клітинки (x, y)\n",
    "    live_neighbors = 0\n",
    "    for i in range(-1, 2):\n",
    "        for j in range(-1, 2):\n",
    "            if i == 0 and j == 0:\n",
    "                continue  # Пропускаємо саму клітинку\n",
    "            if 0 <= x + i < matrix.shape[0] and 0 <= y + j < matrix.shape[1] and matrix[x + i][y + j] == 1:\n",
    "                live_neighbors += 1\n",
    "    return live_neighbors"
   ]
  },
  {
   "cell_type": "code",
   "execution_count": 4,
   "id": "05d963a2",
   "metadata": {},
   "outputs": [],
   "source": [
    "def update_matrix(matrix):\n",
    "    new_matrix = matrix.copy()\n",
    "    for x in range(matrix.shape[0]):\n",
    "        for y in range(matrix.shape[1]):\n",
    "            live_neighbors = count_live_neighbors(matrix, x, y)\n",
    "            if matrix[x][y] == 1:  # Жива клітинка\n",
    "                if live_neighbors < 2 or live_neighbors > 3:\n",
    "                    new_matrix[x][y] = 0  # Помирає\n",
    "            else:  # Мертва клітинка\n",
    "                if live_neighbors == 3:\n",
    "                    new_matrix[x][y] = 1  # Оживає\n",
    "    return new_matrix"
   ]
  },
  {
   "cell_type": "code",
   "execution_count": 5,
   "id": "a9c46a0c",
   "metadata": {},
   "outputs": [],
   "source": [
    "def print_matrix(matrix):\n",
    "    for row in matrix:\n",
    "        print(' '.join(str(cell) for cell in row))"
   ]
  },
  {
   "cell_type": "code",
   "execution_count": 6,
   "id": "27b6308b",
   "metadata": {},
   "outputs": [],
   "source": [
    "def random_matrix(rows, cols):\n",
    "    # Генерує випадкову матрицю з розміром (rows, cols)\n",
    "    return np.random.randint(2, size=(rows, cols), dtype=int)"
   ]
  },
  {
   "cell_type": "code",
   "execution_count": 7,
   "id": "33a97072",
   "metadata": {},
   "outputs": [],
   "source": [
    "rows = 10\n",
    "cols = 10\n",
    "# Створити початкову випадкову матрицю\n",
    "initial_matrix = random_matrix(rows, cols)"
   ]
  },
  {
   "cell_type": "code",
   "execution_count": null,
   "id": "2a7d42ea",
   "metadata": {},
   "outputs": [],
   "source": [
    "while True:  # Безкінечний цикл симуляції\n",
    "    print(\"Поточний стан матриці:\")\n",
    "    print_matrix(initial_matrix)\n",
    "    initial_matrix = update_matrix(initial_matrix)\n",
    "    time.sleep(1)  # Затримка 1 секунда між ітераціями"
   ]
  }
 ],
 "metadata": {
  "kernelspec": {
   "display_name": "linalg",
   "language": "python",
   "name": "linalg"
  },
  "language_info": {
   "codemirror_mode": {
    "name": "ipython",
    "version": 3
   },
   "file_extension": ".py",
   "mimetype": "text/x-python",
   "name": "python",
   "nbconvert_exporter": "python",
   "pygments_lexer": "ipython3",
   "version": "3.11.4"
  }
 },
 "nbformat": 4,
 "nbformat_minor": 5
}
