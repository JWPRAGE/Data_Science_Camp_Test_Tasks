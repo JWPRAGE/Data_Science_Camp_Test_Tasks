{
 "cells": [
  {
   "cell_type": "code",
   "execution_count": 54,
   "id": "e0a7ddd0",
   "metadata": {},
   "outputs": [],
   "source": [
    "# Початкові ймовірності випадання 'H' для кожної монети\n",
    "probabilities = [0.1, 0.2, 0.4, 0.8, 0.9]\n",
    "\n",
    "# Результати випробувань\n",
    "results = ['H', 'H', 'H', 'T', 'H', 'T', 'H', 'H']\n",
    "\n",
    "# Ініціалізуємо список для збереження ймовірностей після кожного випробування\n",
    "updated_probabilities = []"
   ]
  },
  {
   "cell_type": "code",
   "execution_count": 55,
   "id": "f0f35267",
   "metadata": {},
   "outputs": [],
   "source": [
    "for result in results:\n",
    "    # Оновлюємо ймовірності після кожного випробування\n",
    "    new_probabilities = []\n",
    "    \n",
    "    for i, p in enumerate(probabilities):\n",
    "        # Оновлюємо ймовірність для кожної монети відповідно до результату випробування\n",
    "        if result == 'H':\n",
    "            new_p = p / sum(probabilities)\n",
    "        else:\n",
    "            new_p = (1 - p) / sum(1 - x for x in probabilities)\n",
    "        new_probabilities.append(new_p)\n",
    "    \n",
    "    # Зберігаємо оновлені ймовірності в список\n",
    "    updated_probabilities.append(new_probabilities)\n",
    "    probabilities = new_probabilities"
   ]
  },
  {
   "cell_type": "code",
   "execution_count": 56,
   "id": "4812762d",
   "metadata": {},
   "outputs": [
    {
     "name": "stdout",
     "output_type": "stream",
     "text": [
      "[0.19, 0.19, 0.2, 0.21, 0.21]\n"
     ]
    }
   ],
   "source": [
    "# Виводимо оновлені ймовірності після кожного випробування\n",
    "formatted_probabilities = [round(p, 2) for p in updated_probabilities[-1]]\n",
    "print(formatted_probabilities)"
   ]
  }
 ],
 "metadata": {
  "kernelspec": {
   "display_name": "linalg",
   "language": "python",
   "name": "linalg"
  },
  "language_info": {
   "codemirror_mode": {
    "name": "ipython",
    "version": 3
   },
   "file_extension": ".py",
   "mimetype": "text/x-python",
   "name": "python",
   "nbconvert_exporter": "python",
   "pygments_lexer": "ipython3",
   "version": "3.11.4"
  }
 },
 "nbformat": 4,
 "nbformat_minor": 5
}
