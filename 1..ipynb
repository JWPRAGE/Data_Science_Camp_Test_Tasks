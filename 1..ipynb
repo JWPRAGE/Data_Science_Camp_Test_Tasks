{
 "cells": [
  {
   "cell_type": "code",
   "execution_count": 111,
   "id": "0b5581df",
   "metadata": {},
   "outputs": [],
   "source": [
    "import numpy as np\n",
    "from scipy.linalg import solve\n"
   ]
  },
  {
   "cell_type": "code",
   "execution_count": 112,
   "id": "1d5c20b5",
   "metadata": {},
   "outputs": [],
   "source": [
    "A = np.array(\n",
    "    \n",
    "  [\n",
    "      [1,2,3],\n",
    "      \n",
    "      [0,1,2],\n",
    "      \n",
    "      [2,0,0],\n",
    "  ]\n",
    ")"
   ]
  },
  {
   "cell_type": "code",
   "execution_count": 113,
   "id": "691c8b12",
   "metadata": {},
   "outputs": [],
   "source": [
    "B = np.array([1, 1, 0])"
   ]
  },
  {
   "cell_type": "code",
   "execution_count": 116,
   "id": "95ea2d3e",
   "metadata": {
    "scrolled": true
   },
   "outputs": [
    {
     "name": "stdout",
     "output_type": "stream",
     "text": [
      "Рішення системи: X1 = 0.0, X2 = -1.0, X3 = 1.0\n"
     ]
    }
   ],
   "source": [
    "X = np.linalg.solve(A, B)\n",
    "print(f\"Рішення системи: X1 = {X[0]}, X2 = {X[1]}, X3 = {X[2]}\")"
   ]
  }
 ],
 "metadata": {
  "kernelspec": {
   "display_name": "linalg",
   "language": "python",
   "name": "linalg"
  },
  "language_info": {
   "codemirror_mode": {
    "name": "ipython",
    "version": 3
   },
   "file_extension": ".py",
   "mimetype": "text/x-python",
   "name": "python",
   "nbconvert_exporter": "python",
   "pygments_lexer": "ipython3",
   "version": "3.11.4"
  }
 },
 "nbformat": 4,
 "nbformat_minor": 5
}
