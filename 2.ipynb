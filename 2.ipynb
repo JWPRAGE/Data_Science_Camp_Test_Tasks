{
 "cells": [
  {
   "cell_type": "code",
   "execution_count": 1,
   "id": "cd16bdbd",
   "metadata": {},
   "outputs": [],
   "source": [
    "import numpy as np"
   ]
  },
  {
   "cell_type": "code",
   "execution_count": 2,
   "id": "5b83749f",
   "metadata": {},
   "outputs": [],
   "source": [
    "def count_live_neighbors(matrix, x, y):\n",
    "    # Рахує кількість живих сусідів для даної клітинки (x, y)\n",
    "    live_neighbors = 0\n",
    "    for i in range(-1, 2):\n",
    "        for j in range(-1, 2):\n",
    "            if i == 0 and j == 0:\n",
    "                continue  # Пропускаємо саму клітинку\n",
    "            if 0 <= x + i < matrix.shape[0] and 0 <= y + j < matrix.shape[1] and matrix[x + i][y + j] == 1:\n",
    "                live_neighbors += 1\n",
    "    return live_neighbors"
   ]
  },
  {
   "cell_type": "code",
   "execution_count": 3,
   "id": "311d6633",
   "metadata": {},
   "outputs": [],
   "source": [
    "def update_matrix(matrix):\n",
    "    new_matrix = matrix.copy()\n",
    "    for x in range(matrix.shape[0]):\n",
    "        for y in range(matrix.shape[1]):\n",
    "            live_neighbors = count_live_neighbors(matrix, x, y)\n",
    "            if matrix[x][y] == 1:  # Жива клітинка\n",
    "                if live_neighbors < 2 or live_neighbors > 3:\n",
    "                    new_matrix[x][y] = 0  # Помирає\n",
    "            else:  # Мертва клітинка\n",
    "                if live_neighbors == 3:\n",
    "                    new_matrix[x][y] = 1  # Оживає\n",
    "    return new_matrix\n"
   ]
  },
  {
   "cell_type": "code",
   "execution_count": 4,
   "id": "129e818d",
   "metadata": {},
   "outputs": [],
   "source": [
    "def print_matrix(matrix):\n",
    "    for row in matrix:\n",
    "        print(' '.join(str(cell) for cell in row))\n"
   ]
  },
  {
   "cell_type": "code",
   "execution_count": 11,
   "id": "a36e02e1",
   "metadata": {},
   "outputs": [
    {
     "name": "stdout",
     "output_type": "stream",
     "text": [
      "Початкова матриця:\n",
      "1 0 0 0 0 0 0\n",
      "0 0 1 0 0 1 1\n",
      "1 0 0 1 0 0 1\n",
      "0 1 1 0 1 1 0\n",
      "1 1 1 1 0 0 1\n",
      "1 1 1 1 1 1 1\n",
      "1 1 0 1 1 0 1\n"
     ]
    }
   ],
   "source": [
    "initial_matrix = np.array([[1,0,0,0,0,0,0],\n",
    "                         [0,0,1,0,0,1,1],\n",
    "                         [1,0,0,1,0,0,1],\n",
    "                         [0,1,1,0,1,1,0],\n",
    "                         [1,1,1,1,0,0,1],\n",
    "                         [1,1,1,1,1,1,1],\n",
    "                         [1,1,0,1,1,0,1]])\n",
    "print(\"Початкова матриця:\")\n",
    "print_matrix(initial_matrix)"
   ]
  },
  {
   "cell_type": "code",
   "execution_count": 12,
   "id": "fa84ceea",
   "metadata": {},
   "outputs": [
    {
     "name": "stdout",
     "output_type": "stream",
     "text": [
      "\n",
      "Матриця після ітерації:\n",
      "0 0 0 0 0 0 0\n",
      "0 1 0 0 0 1 1\n",
      "0 0 0 1 0 0 1\n",
      "0 0 0 0 1 1 1\n",
      "0 0 0 0 0 0 1\n",
      "0 0 0 0 0 0 1\n",
      "1 0 0 0 0 0 1\n",
      "\n",
      "Матриця після ітерації:\n",
      "0 0 0 0 0 0 0\n",
      "0 0 0 0 0 1 1\n",
      "0 0 0 0 0 0 0\n",
      "0 0 0 0 1 0 1\n",
      "0 0 0 0 0 0 1\n",
      "0 0 0 0 0 1 1\n",
      "0 0 0 0 0 0 0\n",
      "\n",
      "Матриця після ітерації:\n",
      "0 0 0 0 0 0 0\n",
      "0 0 0 0 0 0 0\n",
      "0 0 0 0 0 0 1\n",
      "0 0 0 0 0 1 0\n",
      "0 0 0 0 0 0 1\n",
      "0 0 0 0 0 1 1\n",
      "0 0 0 0 0 0 0\n",
      "\n",
      "Матриця після ітерації:\n",
      "0 0 0 0 0 0 0\n",
      "0 0 0 0 0 0 0\n",
      "0 0 0 0 0 0 0\n",
      "0 0 0 0 0 1 1\n",
      "0 0 0 0 0 0 1\n",
      "0 0 0 0 0 1 1\n",
      "0 0 0 0 0 0 0\n",
      "\n",
      "Матриця після ітерації:\n",
      "0 0 0 0 0 0 0\n",
      "0 0 0 0 0 0 0\n",
      "0 0 0 0 0 0 0\n",
      "0 0 0 0 0 1 1\n",
      "0 0 0 0 0 0 0\n",
      "0 0 0 0 0 1 1\n",
      "0 0 0 0 0 0 0\n",
      "\n",
      "Матриця після ітерації:\n",
      "0 0 0 0 0 0 0\n",
      "0 0 0 0 0 0 0\n",
      "0 0 0 0 0 0 0\n",
      "0 0 0 0 0 0 0\n",
      "0 0 0 0 0 0 0\n",
      "0 0 0 0 0 0 0\n",
      "0 0 0 0 0 0 0\n",
      "\n",
      "Матриця після ітерації:\n",
      "0 0 0 0 0 0 0\n",
      "0 0 0 0 0 0 0\n",
      "0 0 0 0 0 0 0\n",
      "0 0 0 0 0 0 0\n",
      "0 0 0 0 0 0 0\n",
      "0 0 0 0 0 0 0\n",
      "0 0 0 0 0 0 0\n"
     ]
    }
   ],
   "source": [
    "for _ in range(7):  # Зробимо 5 ітерацій\n",
    "    initial_matrix = update_matrix(initial_matrix)\n",
    "    print(\"\\nМатриця після ітерації:\")\n",
    "    print_matrix(initial_matrix)"
   ]
  }
 ],
 "metadata": {
  "kernelspec": {
   "display_name": "linalg",
   "language": "python",
   "name": "linalg"
  },
  "language_info": {
   "codemirror_mode": {
    "name": "ipython",
    "version": 3
   },
   "file_extension": ".py",
   "mimetype": "text/x-python",
   "name": "python",
   "nbconvert_exporter": "python",
   "pygments_lexer": "ipython3",
   "version": "3.11.4"
  }
 },
 "nbformat": 4,
 "nbformat_minor": 5
}
